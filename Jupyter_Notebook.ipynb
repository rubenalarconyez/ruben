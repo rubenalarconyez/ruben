{
 "cells": [
  {
   "cell_type": "markdown",
   "metadata": {},
   "source": [
    "<center>\n",
    "    <img src=\"https://cf-courses-data.s3.us.cloud-object-storage.appdomain.cloud/IBMDeveloperSkillsNetwork-DS0105EN-SkillsNetwork/labs/Module2/images/SN_web_lightmode.png\" width=\"300\" alt=\"cognitiveclass.ai logo\">\n",
    "</center>\n"
   ]
  },
  {
   "cell_type": "markdown",
   "metadata": {},
   "source": [
    "#### Add your code below following the instructions given in the course\n"
   ]
  },
  {
   "cell_type": "markdown",
   "metadata": {},
   "source": [
    "## Ejercicio 2 - Cree una celda markdown con el título del cuaderno. \n",
    "\n",
    "## Aplicando lo aprendido durante el curso\n"
   ]
  },
  {
   "cell_type": "markdown",
   "metadata": {},
   "source": [
    "## Ejercicio 3 - Cree una celda markdown para una introducción.\n",
    "## Introducción\n",
    "\n",
    "En este cuaderno, exploraremos diversas herramientas y técnicas utilizadas en la ciencia de datos.\n"
   ]
  },
  {
   "cell_type": "markdown",
   "metadata": {},
   "source": [
    "## Ejercicio 4 - Cree una celda markdown para enumerar los lenguajes de la ciencia de datos."
   ]
  },
  {
   "cell_type": "markdown",
   "metadata": {},
   "source": [
    "## Lenguajes de la Ciencia de Datos\n",
    "\n",
    "1. **Python**: Ampliamente utilizado por su simplicidad y poderosas bibliotecas como Pandas, NumPy y Scikit-learn.\n",
    "2. **R**: Popular en estadísticas y análisis de datos.\n",
    "3. **SQL**: Utilizado para manejar bases de datos.\n",
    "4. **Java**: Utilizado en grandes sistemas de procesamiento de datos.\n",
    "5. **Julia**: Lenguaje emergente en análisis de datos y cálculos numéricos.\n"
   ]
  },
  {
   "cell_type": "markdown",
   "metadata": {},
   "source": [
    "## Ejercicio 5 - Cree una celda markdown para listar bibliotecas de ciencia de datos."
   ]
  },
  {
   "cell_type": "markdown",
   "metadata": {},
   "source": [
    "## Bibliotecas de Ciencia de Datos\n",
    "\n",
    "Algunas bibliotecas clave para la ciencia de datos en Python incluyen:\n",
    "\n",
    "- **Pandas**: Para manipulación y análisis de datos.\n",
    "- **NumPy**: Para cálculos numéricos y trabajo con arrays.\n",
    "- **Matplotlib**: Para crear visualizaciones gráficas.\n",
    "- **Seaborn**: Basada en Matplotlib, para crear gráficos estadísticos más complejos.\n",
    "- **Scikit-learn**: Para aprendizaje automático.\n",
    "- **TensorFlow**: Para redes neuronales y aprendizaje profundo.\n"
   ]
  },
  {
   "cell_type": "markdown",
   "metadata": {},
   "source": [
    "## Ejercicio 6 - Cree una celda markdown con una tabla de herramientas de Ciencia de Datos."
   ]
  },
  {
   "cell_type": "markdown",
   "metadata": {},
   "source": [
    "## Herramientas de Ciencia de Datos\n",
    "\n",
    "| Herramienta          | Descripción                                           |\n",
    "|----------------------|-------------------------------------------------------|\n",
    "| **Jupyter Notebook**  | Entorno interactivo para código, visualización y texto. |\n",
    "| **VS Code**           | Editor de código con soporte para Python, R, y más.   |\n",
    "| **Anaconda**          | Plataforma para la gestión de paquetes y entornos.    |\n",
    "| **Tableau**           | Herramienta para visualización de datos interactiva.  |\n",
    "| **Hadoop**            | Framework de procesamiento de grandes volúmenes de datos. |\n"
   ]
  },
  {
   "cell_type": "markdown",
   "metadata": {},
   "source": [
    "## Ejercicio 7 - Cree una celda markdown introduciendo ejemplos de expresiones aritméticas."
   ]
  },
  {
   "cell_type": "markdown",
   "metadata": {},
   "source": [
    "## Expresiones Aritméticas\n",
    "\n",
    "- Suma: 3 + 5 = 8\n",
    "- Resta: 10 - 4 = 6\n",
    "- Multiplicación: 4 * 6 = 24\n",
    "- División: 20 / 4 = 5\n"
   ]
  },
  {
   "cell_type": "markdown",
   "metadata": {},
   "source": [
    "## Ejercicio 8 - Cree una celda de códigopara multiplicar y sumar números."
   ]
  },
  {
   "cell_type": "code",
   "execution_count": 8,
   "metadata": {},
   "outputs": [
    {
     "name": "stdout",
     "output_type": "stream",
     "text": [
      "La suma es: 15\n",
      "La multiplicación es: 12\n"
     ]
    }
   ],
   "source": [
    "# Operaciones aritméticas\n",
    "suma = 10 + 5\n",
    "multiplicacion = 4 * 3\n",
    "\n",
    "print(\"La suma es:\", suma)\n",
    "print(\"La multiplicación es:\", multiplicacion)\n"
   ]
  },
  {
   "cell_type": "markdown",
   "metadata": {},
   "source": [
    "## Ejercicio 9 - Cree una celda de código para convertir minutos en horas."
   ]
  },
  {
   "cell_type": "code",
   "execution_count": 12,
   "metadata": {},
   "outputs": [
    {
     "name": "stdout",
     "output_type": "stream",
     "text": [
      "150 minutos son 2.5 horas\n"
     ]
    }
   ],
   "source": [
    "# Convertir minutos a horas\n",
    "minutos = 150\n",
    "horas = minutos / 60\n",
    "\n",
    "print(minutos, \"minutos son\", horas, \"horas\")\n"
   ]
  },
  {
   "cell_type": "markdown",
   "metadata": {},
   "source": [
    "## Ejercicio 10 -Inserte una celda de código para listar Objetivos."
   ]
  },
  {
   "cell_type": "code",
   "execution_count": 13,
   "metadata": {},
   "outputs": [
    {
     "name": "stdout",
     "output_type": "stream",
     "text": [
      "- Explorar lenguajes de programación para ciencia de datos.\n",
      "- Conocer las bibliotecas más comunes.\n",
      "- Entender herramientas de análisis de datos.\n",
      "- Implementar expresiones aritméticas en Python.\n"
     ]
    }
   ],
   "source": [
    "# Objetivos del proyecto\n",
    "objetivos = [\n",
    "    \"Explorar lenguajes de programación para ciencia de datos.\",\n",
    "    \"Conocer las bibliotecas más comunes.\",\n",
    "    \"Entender herramientas de análisis de datos.\",\n",
    "    \"Implementar expresiones aritméticas en Python.\"\n",
    "]\n",
    "\n",
    "for objetivo in objetivos:\n",
    "    print(f\"- {objetivo}\")\n"
   ]
  },
  {
   "cell_type": "markdown",
   "metadata": {},
   "source": [
    "## Ejercicio 11 - Cree una celda markdown para indicar el nombre del Autor."
   ]
  },
  {
   "cell_type": "markdown",
   "metadata": {},
   "source": [
    "## Autor\n",
    "\n",
    "Este cuaderno ha sido creado por Ruben Antonio Alarcon Yañez"
   ]
  },
  {
   "cell_type": "code",
   "execution_count": null,
   "metadata": {},
   "outputs": [],
   "source": []
  }
 ],
 "metadata": {
  "kernelspec": {
   "display_name": "Python 3 (ipykernel)",
   "language": "python",
   "name": "python3"
  },
  "language_info": {
   "codemirror_mode": {
    "name": "ipython",
    "version": 3
   },
   "file_extension": ".py",
   "mimetype": "text/x-python",
   "name": "python",
   "nbconvert_exporter": "python",
   "pygments_lexer": "ipython3",
   "version": "3.11.9"
  }
 },
 "nbformat": 4,
 "nbformat_minor": 4
}
